{
 "cells": [
  {
   "cell_type": "code",
   "execution_count": 3,
   "outputs": [
    {
     "name": "stdout",
     "output_type": "stream",
     "text": [
      "Collecting pandas\r\n",
      "  Using cached pandas-2.1.3-cp310-cp310-macosx_11_0_arm64.whl (10.9 MB)\r\n",
      "Requirement already satisfied: python-dateutil>=2.8.2 in /Users/osniel/.pyenv/versions/3.10.6/envs/graph-opt/lib/python3.10/site-packages (from pandas) (2.8.2)\r\n",
      "Collecting pytz>=2020.1\r\n",
      "  Using cached pytz-2023.3.post1-py2.py3-none-any.whl (502 kB)\r\n",
      "Collecting tzdata>=2022.1\r\n",
      "  Using cached tzdata-2023.3-py2.py3-none-any.whl (341 kB)\r\n",
      "Requirement already satisfied: numpy<2,>=1.22.4 in /Users/osniel/.pyenv/versions/3.10.6/envs/graph-opt/lib/python3.10/site-packages (from pandas) (1.26.1)\r\n",
      "Requirement already satisfied: six>=1.5 in /Users/osniel/.pyenv/versions/3.10.6/envs/graph-opt/lib/python3.10/site-packages (from python-dateutil>=2.8.2->pandas) (1.16.0)\r\n",
      "Installing collected packages: pytz, tzdata, pandas\r\n",
      "Successfully installed pandas-2.1.3 pytz-2023.3.post1 tzdata-2023.3\r\n",
      "\r\n",
      "\u001B[1m[\u001B[0m\u001B[34;49mnotice\u001B[0m\u001B[1;39;49m]\u001B[0m\u001B[39;49m A new release of pip available: \u001B[0m\u001B[31;49m22.2.1\u001B[0m\u001B[39;49m -> \u001B[0m\u001B[32;49m23.3.1\u001B[0m\r\n",
      "\u001B[1m[\u001B[0m\u001B[34;49mnotice\u001B[0m\u001B[1;39;49m]\u001B[0m\u001B[39;49m To update, run: \u001B[0m\u001B[32;49mpip install --upgrade pip\u001B[0m\r\n"
     ]
    }
   ],
   "source": [
    "!pip install pandas"
   ],
   "metadata": {
    "collapsed": false,
    "pycharm": {
     "name": "#%%\n"
    }
   }
  },
  {
   "cell_type": "code",
   "execution_count": 4,
   "outputs": [],
   "source": [
    "import os\n",
    "import pickle\n",
    "from collections import defaultdict\n",
    "\n",
    "import pandas as pd\n",
    "import matplotlib.pyplot as plt\n",
    "import networkx as nx\n",
    "\n",
    "from genetic import fitness"
   ],
   "metadata": {
    "collapsed": false,
    "pycharm": {
     "name": "#%%\n"
    }
   }
  },
  {
   "cell_type": "code",
   "execution_count": 5,
   "metadata": {
    "collapsed": true,
    "pycharm": {
     "name": "#%%\n"
    }
   },
   "outputs": [],
   "source": [
    "def is_valid(g, s):\n",
    "    return all(sum(s[v_int] for v in g[n] if (v_int := int(v))) >= 2\n",
    "               for n in g\n",
    "               if (n_int := int(n)) and not s[n_int])\n"
   ]
  },
  {
   "cell_type": "markdown",
   "source": [
    "### Experimento 1"
   ],
   "metadata": {
    "collapsed": false,
    "pycharm": {
     "name": "#%% md\n"
    }
   }
  },
  {
   "cell_type": "code",
   "execution_count": 6,
   "outputs": [],
   "source": [
    "results = \"../results\"\n",
    "\n",
    "data = defaultdict(dict)\n",
    "\n",
    "for filename in os.listdir(results):\n",
    "    if filename.endswith('.graphml'):\n",
    "        file_path = os.path.join(results, filename)\n",
    "        G = nx.read_graphml(file_path)\n",
    "        index = int(filename.split('.')[0])\n",
    "        data[index]['g'] = G\n",
    "    if filename.endswith('.pkl'):\n",
    "        file_path = os.path.join(results, filename)\n",
    "        with open(file_path, 'rb') as file:\n",
    "            r = pickle.load(file)\n",
    "            index = int(filename.split('.')[0])\n",
    "            data[index].update(r)"
   ],
   "metadata": {
    "collapsed": false,
    "pycharm": {
     "name": "#%%\n"
    }
   }
  },
  {
   "cell_type": "code",
   "execution_count": 7,
   "outputs": [
    {
     "data": {
      "text/plain": "                                                    alg      alg_t  \\\n2                                                {0, 1}   0.000652   \n3                                             {0, 1, 2}    0.00006   \n4                                             {1, 2, 3}   0.000066   \n5                                          {0, 1, 2, 3}   0.000075   \n6                                          {0, 2, 4, 5}   0.000077   \n...                                                 ...        ...   \n512   {0, 1, 2, 3, 4, 6, 7, 8, 9, 10, 11, 12, 14, 15...   0.023608   \n1024  {1, 2, 3, 5, 7, 9, 11, 12, 14, 15, 17, 18, 19,...   0.158834   \n2048  {0, 3, 4, 5, 7, 9, 10, 11, 13, 15, 17, 18, 20,...    0.69962   \n4096  {0, 1, 3, 5, 6, 7, 8, 9, 11, 13, 14, 15, 16, 1...   1.378018   \n8192  {1, 2, 4, 5, 7, 9, 10, 11, 12, 13, 15, 17, 19,...  10.042132   \n\n                                                    gen        gen_t  \\\n2                                                {0, 1}     5.858148   \n3                                                {0, 1}     4.635681   \n4                                             {1, 2, 3}     4.727917   \n5                                             {1, 2, 3}     4.879394   \n6                                          {0, 2, 4, 5}     4.999606   \n...                                                 ...          ...   \n512   {0, 1, 2, 3, 7, 8, 10, 11, 14, 16, 17, 18, 19,...      67.1913   \n1024  {1, 2, 3, 5, 7, 8, 9, 10, 11, 13, 14, 16, 23, ...   130.609058   \n2048  {2, 3, 4, 8, 9, 11, 16, 20, 21, 22, 24, 27, 28...   257.311862   \n4096  {2, 3, 6, 8, 10, 11, 13, 14, 17, 21, 23, 24, 2...   505.157297   \n8192  {1, 9, 10, 12, 13, 15, 16, 17, 18, 19, 20, 24,...  1002.760703   \n\n                                                      g  \n2                                                (0, 1)  \n3                                             (0, 1, 2)  \n4                                          (0, 1, 2, 3)  \n5                                       (0, 1, 2, 3, 4)  \n6                                    (0, 1, 2, 3, 4, 5)  \n...                                                 ...  \n512   (0, 1, 2, 3, 4, 5, 6, 7, 8, 9, 10, 11, 12, 13,...  \n1024  (0, 1, 2, 3, 4, 5, 6, 7, 8, 9, 10, 11, 12, 13,...  \n2048  (0, 1, 2, 3, 4, 5, 6, 7, 8, 9, 10, 11, 12, 13,...  \n4096  (0, 1, 2, 3, 4, 5, 6, 7, 8, 9, 10, 11, 12, 13,...  \n8192  (0, 1, 2, 3, 4, 5, 6, 7, 8, 9, 10, 11, 12, 13,...  \n\n[126 rows x 5 columns]",
      "text/html": "<div>\n<style scoped>\n    .dataframe tbody tr th:only-of-type {\n        vertical-align: middle;\n    }\n\n    .dataframe tbody tr th {\n        vertical-align: top;\n    }\n\n    .dataframe thead th {\n        text-align: right;\n    }\n</style>\n<table border=\"1\" class=\"dataframe\">\n  <thead>\n    <tr style=\"text-align: right;\">\n      <th></th>\n      <th>alg</th>\n      <th>alg_t</th>\n      <th>gen</th>\n      <th>gen_t</th>\n      <th>g</th>\n    </tr>\n  </thead>\n  <tbody>\n    <tr>\n      <th>2</th>\n      <td>{0, 1}</td>\n      <td>0.000652</td>\n      <td>{0, 1}</td>\n      <td>5.858148</td>\n      <td>(0, 1)</td>\n    </tr>\n    <tr>\n      <th>3</th>\n      <td>{0, 1, 2}</td>\n      <td>0.00006</td>\n      <td>{0, 1}</td>\n      <td>4.635681</td>\n      <td>(0, 1, 2)</td>\n    </tr>\n    <tr>\n      <th>4</th>\n      <td>{1, 2, 3}</td>\n      <td>0.000066</td>\n      <td>{1, 2, 3}</td>\n      <td>4.727917</td>\n      <td>(0, 1, 2, 3)</td>\n    </tr>\n    <tr>\n      <th>5</th>\n      <td>{0, 1, 2, 3}</td>\n      <td>0.000075</td>\n      <td>{1, 2, 3}</td>\n      <td>4.879394</td>\n      <td>(0, 1, 2, 3, 4)</td>\n    </tr>\n    <tr>\n      <th>6</th>\n      <td>{0, 2, 4, 5}</td>\n      <td>0.000077</td>\n      <td>{0, 2, 4, 5}</td>\n      <td>4.999606</td>\n      <td>(0, 1, 2, 3, 4, 5)</td>\n    </tr>\n    <tr>\n      <th>...</th>\n      <td>...</td>\n      <td>...</td>\n      <td>...</td>\n      <td>...</td>\n      <td>...</td>\n    </tr>\n    <tr>\n      <th>512</th>\n      <td>{0, 1, 2, 3, 4, 6, 7, 8, 9, 10, 11, 12, 14, 15...</td>\n      <td>0.023608</td>\n      <td>{0, 1, 2, 3, 7, 8, 10, 11, 14, 16, 17, 18, 19,...</td>\n      <td>67.1913</td>\n      <td>(0, 1, 2, 3, 4, 5, 6, 7, 8, 9, 10, 11, 12, 13,...</td>\n    </tr>\n    <tr>\n      <th>1024</th>\n      <td>{1, 2, 3, 5, 7, 9, 11, 12, 14, 15, 17, 18, 19,...</td>\n      <td>0.158834</td>\n      <td>{1, 2, 3, 5, 7, 8, 9, 10, 11, 13, 14, 16, 23, ...</td>\n      <td>130.609058</td>\n      <td>(0, 1, 2, 3, 4, 5, 6, 7, 8, 9, 10, 11, 12, 13,...</td>\n    </tr>\n    <tr>\n      <th>2048</th>\n      <td>{0, 3, 4, 5, 7, 9, 10, 11, 13, 15, 17, 18, 20,...</td>\n      <td>0.69962</td>\n      <td>{2, 3, 4, 8, 9, 11, 16, 20, 21, 22, 24, 27, 28...</td>\n      <td>257.311862</td>\n      <td>(0, 1, 2, 3, 4, 5, 6, 7, 8, 9, 10, 11, 12, 13,...</td>\n    </tr>\n    <tr>\n      <th>4096</th>\n      <td>{0, 1, 3, 5, 6, 7, 8, 9, 11, 13, 14, 15, 16, 1...</td>\n      <td>1.378018</td>\n      <td>{2, 3, 6, 8, 10, 11, 13, 14, 17, 21, 23, 24, 2...</td>\n      <td>505.157297</td>\n      <td>(0, 1, 2, 3, 4, 5, 6, 7, 8, 9, 10, 11, 12, 13,...</td>\n    </tr>\n    <tr>\n      <th>8192</th>\n      <td>{1, 2, 4, 5, 7, 9, 10, 11, 12, 13, 15, 17, 19,...</td>\n      <td>10.042132</td>\n      <td>{1, 9, 10, 12, 13, 15, 16, 17, 18, 19, 20, 24,...</td>\n      <td>1002.760703</td>\n      <td>(0, 1, 2, 3, 4, 5, 6, 7, 8, 9, 10, 11, 12, 13,...</td>\n    </tr>\n  </tbody>\n</table>\n<p>126 rows × 5 columns</p>\n</div>"
     },
     "execution_count": 7,
     "metadata": {},
     "output_type": "execute_result"
    }
   ],
   "source": [
    "data = pd.DataFrame(data).T\n",
    "data.sort_index(inplace=True)\n",
    "data.dropna(inplace=True)\n",
    "data"
   ],
   "metadata": {
    "collapsed": false,
    "pycharm": {
     "name": "#%%\n"
    }
   }
  },
  {
   "cell_type": "code",
   "execution_count": 8,
   "outputs": [],
   "source": [
    "def a_is_valid(d, solution):\n",
    "    s = d[solution]\n",
    "    s_list = [False] * len(d.g)\n",
    "    for n in d.g:\n",
    "        n_int = int(n)\n",
    "        s_list[n_int] = n_int in s\n",
    "    return is_valid(d['g'], s_list)\n",
    "\n",
    "def a_fitness(d, solution):\n",
    "    s = d[solution]\n",
    "    s_list = [False] * len(d.g)\n",
    "    for n in d.g:\n",
    "        n_int = int(n)\n",
    "        s_list[n_int] = n_int in s\n",
    "    return fitness(d['g'], s_list)"
   ],
   "metadata": {
    "collapsed": false,
    "pycharm": {
     "name": "#%%\n"
    }
   }
  },
  {
   "cell_type": "code",
   "execution_count": 9,
   "outputs": [
    {
     "name": "stdout",
     "output_type": "stream",
     "text": [
      "valid_non_s=0 leafs_on_s=1\n",
      "valid_non_s=0 leafs_on_s=1\n",
      "valid_non_s=0 leafs_on_s=2\n",
      "valid_non_s=1 leafs_on_s=3\n",
      "valid_non_s=2 leafs_on_s=2\n",
      "valid_non_s=0 leafs_on_s=4\n",
      "valid_non_s=0 leafs_on_s=5\n",
      "valid_non_s=1 leafs_on_s=4\n",
      "valid_non_s=1 leafs_on_s=6\n",
      "valid_non_s=3 leafs_on_s=4\n",
      "valid_non_s=0 leafs_on_s=10\n",
      "valid_non_s=0 leafs_on_s=8\n",
      "valid_non_s=4 leafs_on_s=5\n",
      "valid_non_s=3 leafs_on_s=6\n",
      "valid_non_s=3 leafs_on_s=8\n",
      "valid_non_s=3 leafs_on_s=9\n",
      "valid_non_s=3 leafs_on_s=11\n",
      "valid_non_s=7 leafs_on_s=7\n",
      "valid_non_s=6 leafs_on_s=8\n",
      "valid_non_s=3 leafs_on_s=9\n",
      "valid_non_s=8 leafs_on_s=8\n",
      "valid_non_s=5 leafs_on_s=11\n",
      "valid_non_s=7 leafs_on_s=12\n",
      "valid_non_s=7 leafs_on_s=12\n",
      "valid_non_s=6 leafs_on_s=10\n",
      "valid_non_s=5 leafs_on_s=14\n",
      "valid_non_s=7 leafs_on_s=15\n",
      "valid_non_s=7 leafs_on_s=12\n",
      "valid_non_s=7 leafs_on_s=14\n",
      "valid_non_s=8 leafs_on_s=15\n",
      "valid_non_s=7 leafs_on_s=16\n",
      "valid_non_s=11 leafs_on_s=12\n",
      "valid_non_s=10 leafs_on_s=14\n",
      "valid_non_s=11 leafs_on_s=15\n",
      "valid_non_s=7 leafs_on_s=18\n",
      "valid_non_s=9 leafs_on_s=21\n",
      "valid_non_s=13 leafs_on_s=13\n",
      "valid_non_s=5 leafs_on_s=21\n",
      "valid_non_s=12 leafs_on_s=20\n",
      "valid_non_s=10 leafs_on_s=16\n",
      "valid_non_s=12 leafs_on_s=18\n",
      "valid_non_s=9 leafs_on_s=19\n",
      "valid_non_s=10 leafs_on_s=17\n",
      "valid_non_s=15 leafs_on_s=19\n",
      "valid_non_s=8 leafs_on_s=19\n",
      "valid_non_s=12 leafs_on_s=23\n",
      "valid_non_s=16 leafs_on_s=18\n",
      "valid_non_s=8 leafs_on_s=25\n",
      "valid_non_s=14 leafs_on_s=28\n",
      "valid_non_s=15 leafs_on_s=22\n",
      "valid_non_s=15 leafs_on_s=24\n",
      "valid_non_s=16 leafs_on_s=26\n",
      "valid_non_s=17 leafs_on_s=23\n",
      "valid_non_s=18 leafs_on_s=22\n",
      "valid_non_s=15 leafs_on_s=26\n",
      "valid_non_s=18 leafs_on_s=28\n",
      "valid_non_s=18 leafs_on_s=29\n",
      "valid_non_s=19 leafs_on_s=28\n",
      "valid_non_s=17 leafs_on_s=25\n",
      "valid_non_s=12 leafs_on_s=28\n",
      "valid_non_s=13 leafs_on_s=24\n",
      "valid_non_s=13 leafs_on_s=27\n",
      "valid_non_s=22 leafs_on_s=25\n",
      "valid_non_s=22 leafs_on_s=26\n",
      "valid_non_s=20 leafs_on_s=33\n",
      "valid_non_s=20 leafs_on_s=28\n",
      "valid_non_s=17 leafs_on_s=27\n",
      "valid_non_s=19 leafs_on_s=35\n",
      "valid_non_s=25 leafs_on_s=26\n",
      "valid_non_s=11 leafs_on_s=38\n",
      "valid_non_s=23 leafs_on_s=30\n",
      "valid_non_s=17 leafs_on_s=29\n",
      "valid_non_s=24 leafs_on_s=31\n",
      "valid_non_s=22 leafs_on_s=39\n",
      "valid_non_s=24 leafs_on_s=38\n",
      "valid_non_s=27 leafs_on_s=32\n",
      "valid_non_s=15 leafs_on_s=35\n",
      "valid_non_s=26 leafs_on_s=35\n",
      "valid_non_s=26 leafs_on_s=38\n",
      "valid_non_s=27 leafs_on_s=34\n",
      "valid_non_s=14 leafs_on_s=41\n",
      "valid_non_s=26 leafs_on_s=40\n",
      "valid_non_s=26 leafs_on_s=39\n",
      "valid_non_s=28 leafs_on_s=34\n",
      "valid_non_s=27 leafs_on_s=41\n",
      "valid_non_s=28 leafs_on_s=42\n",
      "valid_non_s=26 leafs_on_s=42\n",
      "valid_non_s=28 leafs_on_s=39\n",
      "valid_non_s=28 leafs_on_s=45\n",
      "valid_non_s=20 leafs_on_s=40\n",
      "valid_non_s=30 leafs_on_s=40\n",
      "valid_non_s=32 leafs_on_s=38\n",
      "valid_non_s=21 leafs_on_s=37\n",
      "valid_non_s=30 leafs_on_s=44\n",
      "valid_non_s=30 leafs_on_s=41\n",
      "valid_non_s=33 leafs_on_s=41\n",
      "valid_non_s=35 leafs_on_s=35\n",
      "valid_non_s=31 leafs_on_s=47\n",
      "valid_non_s=32 leafs_on_s=40\n",
      "valid_non_s=36 leafs_on_s=39\n",
      "valid_non_s=33 leafs_on_s=42\n",
      "valid_non_s=32 leafs_on_s=45\n",
      "valid_non_s=34 leafs_on_s=46\n",
      "valid_non_s=18 leafs_on_s=55\n",
      "valid_non_s=20 leafs_on_s=48\n",
      "valid_non_s=38 leafs_on_s=45\n",
      "valid_non_s=24 leafs_on_s=47\n",
      "valid_non_s=23 leafs_on_s=53\n",
      "valid_non_s=36 leafs_on_s=49\n",
      "valid_non_s=37 leafs_on_s=41\n",
      "valid_non_s=21 leafs_on_s=50\n",
      "valid_non_s=34 leafs_on_s=52\n",
      "valid_non_s=21 leafs_on_s=54\n",
      "valid_non_s=30 leafs_on_s=41\n",
      "valid_non_s=36 leafs_on_s=51\n",
      "valid_non_s=35 leafs_on_s=56\n",
      "valid_non_s=37 leafs_on_s=53\n",
      "valid_non_s=25 leafs_on_s=52\n",
      "valid_non_s=37 leafs_on_s=57\n",
      "valid_non_s=30 leafs_on_s=57\n",
      "valid_non_s=85 leafs_on_s=108\n",
      "valid_non_s=109 leafs_on_s=225\n",
      "valid_non_s=345 leafs_on_s=444\n",
      "valid_non_s=694 leafs_on_s=866\n",
      "valid_non_s=898 leafs_on_s=1762\n",
      "valid_non_s=2747 leafs_on_s=3563\n",
      "valid_non_s=0 leafs_on_s=1\n",
      "valid_non_s=0 leafs_on_s=1\n",
      "valid_non_s=0 leafs_on_s=2\n",
      "valid_non_s=1 leafs_on_s=3\n",
      "valid_non_s=2 leafs_on_s=2\n",
      "valid_non_s=2 leafs_on_s=4\n",
      "valid_non_s=2 leafs_on_s=5\n",
      "valid_non_s=2 leafs_on_s=4\n",
      "valid_non_s=1 leafs_on_s=6\n",
      "valid_non_s=4 leafs_on_s=4\n",
      "valid_non_s=1 leafs_on_s=10\n",
      "valid_non_s=3 leafs_on_s=8\n",
      "valid_non_s=4 leafs_on_s=5\n",
      "valid_non_s=3 leafs_on_s=6\n",
      "valid_non_s=3 leafs_on_s=8\n",
      "valid_non_s=3 leafs_on_s=9\n",
      "valid_non_s=3 leafs_on_s=11\n",
      "valid_non_s=6 leafs_on_s=7\n",
      "valid_non_s=6 leafs_on_s=8\n",
      "valid_non_s=5 leafs_on_s=9\n",
      "valid_non_s=7 leafs_on_s=8\n",
      "valid_non_s=4 leafs_on_s=11\n",
      "valid_non_s=5 leafs_on_s=11\n",
      "valid_non_s=6 leafs_on_s=12\n",
      "valid_non_s=8 leafs_on_s=9\n",
      "valid_non_s=6 leafs_on_s=13\n",
      "valid_non_s=7 leafs_on_s=15\n",
      "valid_non_s=6 leafs_on_s=11\n",
      "valid_non_s=5 leafs_on_s=13\n",
      "valid_non_s=7 leafs_on_s=13\n",
      "valid_non_s=6 leafs_on_s=13\n",
      "valid_non_s=9 leafs_on_s=11\n",
      "valid_non_s=7 leafs_on_s=13\n",
      "valid_non_s=9 leafs_on_s=13\n",
      "valid_non_s=7 leafs_on_s=16\n",
      "valid_non_s=6 leafs_on_s=18\n",
      "valid_non_s=10 leafs_on_s=13\n",
      "valid_non_s=7 leafs_on_s=17\n",
      "valid_non_s=9 leafs_on_s=17\n",
      "valid_non_s=11 leafs_on_s=15\n",
      "valid_non_s=8 leafs_on_s=15\n",
      "valid_non_s=8 leafs_on_s=18\n",
      "valid_non_s=11 leafs_on_s=14\n",
      "valid_non_s=9 leafs_on_s=16\n",
      "valid_non_s=10 leafs_on_s=18\n",
      "valid_non_s=9 leafs_on_s=21\n",
      "valid_non_s=9 leafs_on_s=17\n",
      "valid_non_s=9 leafs_on_s=21\n",
      "valid_non_s=11 leafs_on_s=23\n",
      "valid_non_s=11 leafs_on_s=19\n",
      "valid_non_s=11 leafs_on_s=20\n",
      "valid_non_s=11 leafs_on_s=21\n",
      "valid_non_s=9 leafs_on_s=21\n",
      "valid_non_s=8 leafs_on_s=21\n",
      "valid_non_s=12 leafs_on_s=21\n",
      "valid_non_s=12 leafs_on_s=22\n",
      "valid_non_s=12 leafs_on_s=24\n",
      "valid_non_s=9 leafs_on_s=24\n",
      "valid_non_s=14 leafs_on_s=20\n",
      "valid_non_s=12 leafs_on_s=23\n",
      "valid_non_s=14 leafs_on_s=18\n",
      "valid_non_s=13 leafs_on_s=21\n",
      "valid_non_s=15 leafs_on_s=20\n",
      "valid_non_s=10 leafs_on_s=22\n",
      "valid_non_s=13 leafs_on_s=26\n",
      "valid_non_s=14 leafs_on_s=23\n",
      "valid_non_s=14 leafs_on_s=24\n",
      "valid_non_s=13 leafs_on_s=27\n",
      "valid_non_s=15 leafs_on_s=20\n",
      "valid_non_s=12 leafs_on_s=29\n",
      "valid_non_s=15 leafs_on_s=25\n",
      "valid_non_s=16 leafs_on_s=23\n",
      "valid_non_s=14 leafs_on_s=24\n",
      "valid_non_s=12 leafs_on_s=31\n",
      "valid_non_s=12 leafs_on_s=31\n",
      "valid_non_s=19 leafs_on_s=25\n",
      "valid_non_s=13 leafs_on_s=30\n",
      "valid_non_s=14 leafs_on_s=29\n",
      "valid_non_s=17 leafs_on_s=27\n",
      "valid_non_s=16 leafs_on_s=26\n",
      "valid_non_s=19 leafs_on_s=27\n",
      "valid_non_s=14 leafs_on_s=31\n",
      "valid_non_s=14 leafs_on_s=30\n",
      "valid_non_s=20 leafs_on_s=25\n",
      "valid_non_s=14 leafs_on_s=30\n",
      "valid_non_s=19 leafs_on_s=28\n",
      "valid_non_s=17 leafs_on_s=31\n",
      "valid_non_s=17 leafs_on_s=28\n",
      "valid_non_s=16 leafs_on_s=32\n",
      "valid_non_s=16 leafs_on_s=32\n",
      "valid_non_s=18 leafs_on_s=28\n",
      "valid_non_s=20 leafs_on_s=27\n",
      "valid_non_s=17 leafs_on_s=28\n",
      "valid_non_s=17 leafs_on_s=34\n",
      "valid_non_s=15 leafs_on_s=33\n",
      "valid_non_s=16 leafs_on_s=31\n",
      "valid_non_s=20 leafs_on_s=26\n",
      "valid_non_s=19 leafs_on_s=30\n",
      "valid_non_s=17 leafs_on_s=31\n",
      "valid_non_s=20 leafs_on_s=27\n",
      "valid_non_s=18 leafs_on_s=30\n",
      "valid_non_s=15 leafs_on_s=35\n",
      "valid_non_s=19 leafs_on_s=35\n",
      "valid_non_s=16 leafs_on_s=39\n",
      "valid_non_s=19 leafs_on_s=35\n",
      "valid_non_s=21 leafs_on_s=33\n",
      "valid_non_s=21 leafs_on_s=34\n",
      "valid_non_s=21 leafs_on_s=39\n",
      "valid_non_s=19 leafs_on_s=36\n",
      "valid_non_s=20 leafs_on_s=33\n",
      "valid_non_s=18 leafs_on_s=40\n",
      "valid_non_s=22 leafs_on_s=37\n",
      "valid_non_s=20 leafs_on_s=40\n",
      "valid_non_s=22 leafs_on_s=32\n",
      "valid_non_s=20 leafs_on_s=38\n",
      "valid_non_s=19 leafs_on_s=40\n",
      "valid_non_s=21 leafs_on_s=35\n",
      "valid_non_s=21 leafs_on_s=40\n",
      "valid_non_s=23 leafs_on_s=39\n",
      "valid_non_s=22 leafs_on_s=40\n",
      "valid_non_s=40 leafs_on_s=70\n",
      "valid_non_s=74 leafs_on_s=137\n",
      "valid_non_s=147 leafs_on_s=254\n",
      "valid_non_s=257 leafs_on_s=482\n",
      "valid_non_s=530 leafs_on_s=939\n",
      "valid_non_s=994 leafs_on_s=1890\n"
     ]
    },
    {
     "data": {
      "text/plain": "                                                    alg      alg_t  \\\n2                                                {0, 1}   0.000652   \n3                                             {0, 1, 2}    0.00006   \n4                                             {1, 2, 3}   0.000066   \n5                                          {0, 1, 2, 3}   0.000075   \n6                                          {0, 2, 4, 5}   0.000077   \n...                                                 ...        ...   \n512   {0, 1, 2, 3, 4, 6, 7, 8, 9, 10, 11, 12, 14, 15...   0.023608   \n1024  {1, 2, 3, 5, 7, 9, 11, 12, 14, 15, 17, 18, 19,...   0.158834   \n2048  {0, 3, 4, 5, 7, 9, 10, 11, 13, 15, 17, 18, 20,...    0.69962   \n4096  {0, 1, 3, 5, 6, 7, 8, 9, 11, 13, 14, 15, 16, 1...   1.378018   \n8192  {1, 2, 4, 5, 7, 9, 10, 11, 12, 13, 15, 17, 19,...  10.042132   \n\n                                                    gen        gen_t  \\\n2                                                {0, 1}     5.858148   \n3                                                {0, 1}     4.635681   \n4                                             {1, 2, 3}     4.727917   \n5                                             {1, 2, 3}     4.879394   \n6                                          {0, 2, 4, 5}     4.999606   \n...                                                 ...          ...   \n512   {0, 1, 2, 3, 7, 8, 10, 11, 14, 16, 17, 18, 19,...      67.1913   \n1024  {1, 2, 3, 5, 7, 8, 9, 10, 11, 13, 14, 16, 23, ...   130.609058   \n2048  {2, 3, 4, 8, 9, 11, 16, 20, 21, 22, 24, 27, 28...   257.311862   \n4096  {2, 3, 6, 8, 10, 11, 13, 14, 17, 21, 23, 24, 2...   505.157297   \n8192  {1, 9, 10, 12, 13, 15, 16, 17, 18, 19, 20, 24,...  1002.760703   \n\n                                                      g  alg_f  gen_f  gen_v  \n2                                                (0, 1)      1      1   True  \n3                                             (0, 1, 2)      1      1  False  \n4                                          (0, 1, 2, 3)      2      2   True  \n5                                       (0, 1, 2, 3, 4)      4      4   True  \n6                                    (0, 1, 2, 3, 4, 5)      4      4   True  \n...                                                 ...    ...    ...    ...  \n512   (0, 1, 2, 3, 4, 5, 6, 7, 8, 9, 10, 11, 12, 13,...    334    211  False  \n1024  (0, 1, 2, 3, 4, 5, 6, 7, 8, 9, 10, 11, 12, 13,...    789    401  False  \n2048  (0, 1, 2, 3, 4, 5, 6, 7, 8, 9, 10, 11, 12, 13,...   1560    739  False  \n4096  (0, 1, 2, 3, 4, 5, 6, 7, 8, 9, 10, 11, 12, 13,...   2660   1469  False  \n8192  (0, 1, 2, 3, 4, 5, 6, 7, 8, 9, 10, 11, 12, 13,...   6310   2884  False  \n\n[126 rows x 8 columns]",
      "text/html": "<div>\n<style scoped>\n    .dataframe tbody tr th:only-of-type {\n        vertical-align: middle;\n    }\n\n    .dataframe tbody tr th {\n        vertical-align: top;\n    }\n\n    .dataframe thead th {\n        text-align: right;\n    }\n</style>\n<table border=\"1\" class=\"dataframe\">\n  <thead>\n    <tr style=\"text-align: right;\">\n      <th></th>\n      <th>alg</th>\n      <th>alg_t</th>\n      <th>gen</th>\n      <th>gen_t</th>\n      <th>g</th>\n      <th>alg_f</th>\n      <th>gen_f</th>\n      <th>gen_v</th>\n    </tr>\n  </thead>\n  <tbody>\n    <tr>\n      <th>2</th>\n      <td>{0, 1}</td>\n      <td>0.000652</td>\n      <td>{0, 1}</td>\n      <td>5.858148</td>\n      <td>(0, 1)</td>\n      <td>1</td>\n      <td>1</td>\n      <td>True</td>\n    </tr>\n    <tr>\n      <th>3</th>\n      <td>{0, 1, 2}</td>\n      <td>0.00006</td>\n      <td>{0, 1}</td>\n      <td>4.635681</td>\n      <td>(0, 1, 2)</td>\n      <td>1</td>\n      <td>1</td>\n      <td>False</td>\n    </tr>\n    <tr>\n      <th>4</th>\n      <td>{1, 2, 3}</td>\n      <td>0.000066</td>\n      <td>{1, 2, 3}</td>\n      <td>4.727917</td>\n      <td>(0, 1, 2, 3)</td>\n      <td>2</td>\n      <td>2</td>\n      <td>True</td>\n    </tr>\n    <tr>\n      <th>5</th>\n      <td>{0, 1, 2, 3}</td>\n      <td>0.000075</td>\n      <td>{1, 2, 3}</td>\n      <td>4.879394</td>\n      <td>(0, 1, 2, 3, 4)</td>\n      <td>4</td>\n      <td>4</td>\n      <td>True</td>\n    </tr>\n    <tr>\n      <th>6</th>\n      <td>{0, 2, 4, 5}</td>\n      <td>0.000077</td>\n      <td>{0, 2, 4, 5}</td>\n      <td>4.999606</td>\n      <td>(0, 1, 2, 3, 4, 5)</td>\n      <td>4</td>\n      <td>4</td>\n      <td>True</td>\n    </tr>\n    <tr>\n      <th>...</th>\n      <td>...</td>\n      <td>...</td>\n      <td>...</td>\n      <td>...</td>\n      <td>...</td>\n      <td>...</td>\n      <td>...</td>\n      <td>...</td>\n    </tr>\n    <tr>\n      <th>512</th>\n      <td>{0, 1, 2, 3, 4, 6, 7, 8, 9, 10, 11, 12, 14, 15...</td>\n      <td>0.023608</td>\n      <td>{0, 1, 2, 3, 7, 8, 10, 11, 14, 16, 17, 18, 19,...</td>\n      <td>67.1913</td>\n      <td>(0, 1, 2, 3, 4, 5, 6, 7, 8, 9, 10, 11, 12, 13,...</td>\n      <td>334</td>\n      <td>211</td>\n      <td>False</td>\n    </tr>\n    <tr>\n      <th>1024</th>\n      <td>{1, 2, 3, 5, 7, 9, 11, 12, 14, 15, 17, 18, 19,...</td>\n      <td>0.158834</td>\n      <td>{1, 2, 3, 5, 7, 8, 9, 10, 11, 13, 14, 16, 23, ...</td>\n      <td>130.609058</td>\n      <td>(0, 1, 2, 3, 4, 5, 6, 7, 8, 9, 10, 11, 12, 13,...</td>\n      <td>789</td>\n      <td>401</td>\n      <td>False</td>\n    </tr>\n    <tr>\n      <th>2048</th>\n      <td>{0, 3, 4, 5, 7, 9, 10, 11, 13, 15, 17, 18, 20,...</td>\n      <td>0.69962</td>\n      <td>{2, 3, 4, 8, 9, 11, 16, 20, 21, 22, 24, 27, 28...</td>\n      <td>257.311862</td>\n      <td>(0, 1, 2, 3, 4, 5, 6, 7, 8, 9, 10, 11, 12, 13,...</td>\n      <td>1560</td>\n      <td>739</td>\n      <td>False</td>\n    </tr>\n    <tr>\n      <th>4096</th>\n      <td>{0, 1, 3, 5, 6, 7, 8, 9, 11, 13, 14, 15, 16, 1...</td>\n      <td>1.378018</td>\n      <td>{2, 3, 6, 8, 10, 11, 13, 14, 17, 21, 23, 24, 2...</td>\n      <td>505.157297</td>\n      <td>(0, 1, 2, 3, 4, 5, 6, 7, 8, 9, 10, 11, 12, 13,...</td>\n      <td>2660</td>\n      <td>1469</td>\n      <td>False</td>\n    </tr>\n    <tr>\n      <th>8192</th>\n      <td>{1, 2, 4, 5, 7, 9, 10, 11, 12, 13, 15, 17, 19,...</td>\n      <td>10.042132</td>\n      <td>{1, 9, 10, 12, 13, 15, 16, 17, 18, 19, 20, 24,...</td>\n      <td>1002.760703</td>\n      <td>(0, 1, 2, 3, 4, 5, 6, 7, 8, 9, 10, 11, 12, 13,...</td>\n      <td>6310</td>\n      <td>2884</td>\n      <td>False</td>\n    </tr>\n  </tbody>\n</table>\n<p>126 rows × 8 columns</p>\n</div>"
     },
     "execution_count": 9,
     "metadata": {},
     "output_type": "execute_result"
    }
   ],
   "source": [
    "data['alg_f'] = data.apply(a_fitness, axis=1, args=('alg', ))\n",
    "data['gen_f'] = data.apply(a_fitness, axis=1, args=('gen', ))\n",
    "data['gen_v'] = data.apply(a_is_valid, axis=1, args=('gen', ))\n",
    "data"
   ],
   "metadata": {
    "collapsed": false,
    "pycharm": {
     "name": "#%%\n"
    }
   }
  },
  {
   "cell_type": "code",
   "execution_count": 10,
   "outputs": [
    {
     "name": "stdout",
     "output_type": "stream",
     "text": [
      "valid_non_s=0 leafs_on_s=0\n"
     ]
    },
    {
     "data": {
      "text/plain": "0"
     },
     "execution_count": 10,
     "metadata": {},
     "output_type": "execute_result"
    }
   ],
   "source": [
    "dt = data.iloc[10]\n",
    "s = dt.alg\n",
    "s_list = [n in s for n in dt.g]\n",
    "fitness(dt.g, s_list)"
   ],
   "metadata": {
    "collapsed": false,
    "pycharm": {
     "name": "#%%\n"
    }
   }
  },
  {
   "cell_type": "code",
   "execution_count": 11,
   "outputs": [
    {
     "data": {
      "text/plain": "[False,\n False,\n False,\n False,\n False,\n False,\n False,\n False,\n False,\n False,\n False,\n False]"
     },
     "execution_count": 11,
     "metadata": {},
     "output_type": "execute_result"
    }
   ],
   "source": [
    "s_list"
   ],
   "metadata": {
    "collapsed": false,
    "pycharm": {
     "name": "#%%\n"
    }
   }
  },
  {
   "cell_type": "code",
   "execution_count": 12,
   "outputs": [
    {
     "data": {
      "text/plain": "<Axes: >"
     },
     "execution_count": 12,
     "metadata": {},
     "output_type": "execute_result"
    },
    {
     "data": {
      "text/plain": "<Figure size 640x480 with 1 Axes>",
      "image/png": "[encoded data removed]"
     },
     "metadata": {},
     "output_type": "display_data"
    }
   ],
   "source": [
    "data[[\"alg_t\", \"gen_t\"]].plot()"
   ],
   "metadata": {
    "collapsed": false,
    "pycharm": {
     "name": "#%%\n"
    }
   }
  },
  {
   "cell_type": "code",
   "execution_count": 14,
   "outputs": [
    {
     "data": {
      "text/plain": "<Axes: >"
     },
     "execution_count": 14,
     "metadata": {},
     "output_type": "execute_result"
    },
    {
     "data": {
      "text/plain": "<Figure size 640x480 with 1 Axes>",
      "image/png": "[encoded data removed]"
     },
     "metadata": {},
     "output_type": "display_data"
    }
   ],
   "source": [
    "data[[\"alg_f\", \"gen_f\"]].plot()"
   ],
   "metadata": {
    "collapsed": false,
    "pycharm": {
     "name": "#%%\n"
    }
   }
  },
  {
   "cell_type": "code",
   "execution_count": 15,
   "outputs": [],
   "source": [
    "data.to_csv(\"a1\")"
   ],
   "metadata": {
    "collapsed": false,
    "pycharm": {
     "name": "#%%\n"
    }
   }
  }
 ],
 "metadata": {
  "kernelspec": {
   "display_name": "Python 3",
   "language": "python",
   "name": "python3"
  },
  "language_info": {
   "codemirror_mode": {
    "name": "ipython",
    "version": 2
   },
   "file_extension": ".py",
   "mimetype": "text/x-python",
   "name": "python",
   "nbconvert_exporter": "python",
   "pygments_lexer": "ipython2",
   "version": "2.7.6"
  }
 },
 "nbformat": 4,
 "nbformat_minor": 0
}